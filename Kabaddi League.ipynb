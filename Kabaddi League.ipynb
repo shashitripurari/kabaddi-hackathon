{
 "cells": [
  {
   "cell_type": "code",
   "execution_count": 1,
   "metadata": {},
   "outputs": [],
   "source": [
    "import warnings\n",
    "warnings.filterwarnings('ignore')"
   ]
  },
  {
   "cell_type": "code",
   "execution_count": 2,
   "metadata": {},
   "outputs": [],
   "source": [
    "# Import Libraried\n",
    "import pandas as pd\n",
    "import numpy as np\n",
    "import matplotlib.pyplot as plt\n",
    "import seaborn as sns\n",
    "\n",
    "import sklearn\n",
    "from sklearn.linear_model import LinearRegression\n",
    "from sklearn.linear_model import LogisticRegression\n",
    "from sklearn.preprocessing import MinMaxScaler\n",
    "from sklearn.feature_selection import RFE\n",
    "from sklearn.ensemble import RandomForestClassifier\n",
    "from sklearn.model_selection import cross_val_score\n",
    "\n",
    "import statsmodels.api as sm\n",
    "\n",
    "import requests\n",
    "from pandas.io.json import json_normalize\n",
    "import json\n",
    "\n",
    "from functools import reduce"
   ]
  },
  {
   "cell_type": "markdown",
   "metadata": {},
   "source": [
    "#### Task 1: Predict the winner of the tournament.\n",
    "#### Task 2: Predict the top team in the points table after the completion of the league matches.\n",
    "#### Task 3: Predict the team with the highest points for successful raids.\n",
    "#### Task 4: Predict the team with the highest points for successful tackles. \n",
    "#### Task 5: Predict the team with the highest super-performance total. \n",
    "#### Task 6: Predict the player with the highest SUCCESSFUL RAID percentage.\n",
    "#### Task 7: Predict the player with the highest SUCCESSFUL TACKLE percentage. "
   ]
  },
  {
   "cell_type": "code",
   "execution_count": 3,
   "metadata": {},
   "outputs": [],
   "source": [
    "# Get the data from Pro Kabaddi League website\n",
    "\n",
    "totalPointsUrl = \"https://www.prokabaddi.com/sifeeds/kabaddi/static/json/1_49_96_stats.json\"\n",
    "teamRaidsUrl = \"https://www.prokabaddi.com/sifeeds/kabaddi/static/json/1_49_13_stats.json\"\n",
    "teamTackelsUrl = \"https://www.prokabaddi.com/sifeeds/kabaddi/static/json/1_49_15_stats.json\"\n",
    "playerRaidsUrl = \"https://www.prokabaddi.com/sifeeds/kabaddi/static/json/1_49_21_stats.json\"\n",
    "playerTackelsUrl = \"https://www.prokabaddi.com/sifeeds/kabaddi/static/json/1_49_23_stats.json\"\n",
    "teamAllOutsUrl = \"https://www.prokabaddi.com/sifeeds/kabaddi/static/json/1_49_136_stats.json\"\n",
    "\n",
    "season1 = \"https://www.prokabaddi.com/sifeeds/kabaddi/live/json/1_season.json\"\n",
    "season2 = \"https://www.prokabaddi.com/sifeeds/kabaddi/live/json/2_season.json\"\n",
    "season3 = \"https://www.prokabaddi.com/sifeeds/kabaddi/live/json/3_season.json\"\n",
    "season4 = \"https://www.prokabaddi.com/sifeeds/kabaddi/live/json/4_season.json\"\n",
    "season5 = \"https://www.prokabaddi.com/sifeeds/kabaddi/live/json/multisport_cache_25_3_pkl_0530_en_8.json\"\n",
    "season6 = \"https://www.prokabaddi.com/sifeeds/kabaddi/live/json/multisport_cache_25_3_pkl_0530_en_26.json\"\n",
    "season7 = \"https://www.prokabaddi.com/sifeeds/kabaddi/live/json/multisport_cache_25_3_pkl_0530_en_49.json\"\n",
    "\n",
    "totalPointsResp = requests.get(url=totalPointsUrl)\n",
    "teamRaidsResp = requests.get(url=teamRaidsUrl)\n",
    "teamTackelsResp = requests.get(url=teamTackelsUrl)\n",
    "playerRaidsResp = requests.get(url=playerRaidsUrl)\n",
    "playerTackelsResp = requests.get(url=playerTackelsUrl)\n",
    "teamAllOutsResp = requests.get(url=teamAllOutsUrl)\n",
    "season1Resp = requests.get(url=season1)\n",
    "season2Resp = requests.get(url=season2)\n",
    "season3Resp = requests.get(url=season3)\n",
    "season4Resp = requests.get(url=season4)\n",
    "season5Resp = requests.get(url=season5)\n",
    "season6Resp = requests.get(url=season6)\n",
    "season7Resp = requests.get(url=season7)"
   ]
  },
  {
   "cell_type": "code",
   "execution_count": 4,
   "metadata": {},
   "outputs": [],
   "source": [
    "# Load Json data to Data Frame\n",
    "def getData(jsonResp, colName):\n",
    "    jsonResp = json_normalize(jsonResp.json()['data'])\n",
    "    jsonResp.rename(columns={'value':colName }, inplace=True)\n",
    "    return jsonResp"
   ]
  },
  {
   "cell_type": "code",
   "execution_count": 5,
   "metadata": {},
   "outputs": [],
   "source": [
    "# Function for normalizing the columm values\n",
    "def normaliseData(column):\n",
    "    scaler = MinMaxScaler()\n",
    "    values = scaler.fit_transform(column)\n",
    "    return values"
   ]
  },
  {
   "cell_type": "markdown",
   "metadata": {},
   "source": [
    "#### Total points calculation for team wise"
   ]
  },
  {
   "cell_type": "code",
   "execution_count": 7,
   "metadata": {},
   "outputs": [
    {
     "name": "stderr",
     "output_type": "stream",
     "text": [
      "C:\\Users\\Shashi\\Anaconda3\\lib\\site-packages\\sklearn\\preprocessing\\data.py:334: DataConversionWarning: Data with input dtype int64 were all converted to float64 by MinMaxScaler.\n",
      "  return self.partial_fit(X, y)\n"
     ]
    },
    {
     "data": {
      "text/html": [
       "<div>\n",
       "<style scoped>\n",
       "    .dataframe tbody tr th:only-of-type {\n",
       "        vertical-align: middle;\n",
       "    }\n",
       "\n",
       "    .dataframe tbody tr th {\n",
       "        vertical-align: top;\n",
       "    }\n",
       "\n",
       "    .dataframe thead th {\n",
       "        text-align: right;\n",
       "    }\n",
       "</style>\n",
       "<table border=\"1\" class=\"dataframe\">\n",
       "  <thead>\n",
       "    <tr style=\"text-align: right;\">\n",
       "      <th></th>\n",
       "      <th>match_played</th>\n",
       "      <th>team_id</th>\n",
       "      <th>team_name</th>\n",
       "      <th>total_points</th>\n",
       "      <th>points_n</th>\n",
       "    </tr>\n",
       "  </thead>\n",
       "  <tbody>\n",
       "    <tr>\n",
       "      <th>0</th>\n",
       "      <td>20</td>\n",
       "      <td>2</td>\n",
       "      <td>Dabang Delhi K.C.</td>\n",
       "      <td>742</td>\n",
       "      <td>1.000000</td>\n",
       "    </tr>\n",
       "    <tr>\n",
       "      <th>1</th>\n",
       "      <td>20</td>\n",
       "      <td>4</td>\n",
       "      <td>Bengal Warriors</td>\n",
       "      <td>718</td>\n",
       "      <td>0.874346</td>\n",
       "    </tr>\n",
       "    <tr>\n",
       "      <th>2</th>\n",
       "      <td>19</td>\n",
       "      <td>1</td>\n",
       "      <td>Bengaluru Bulls</td>\n",
       "      <td>656</td>\n",
       "      <td>0.549738</td>\n",
       "    </tr>\n",
       "    <tr>\n",
       "      <th>3</th>\n",
       "      <td>20</td>\n",
       "      <td>7</td>\n",
       "      <td>Puneri Paltan</td>\n",
       "      <td>652</td>\n",
       "      <td>0.528796</td>\n",
       "    </tr>\n",
       "    <tr>\n",
       "      <th>4</th>\n",
       "      <td>19</td>\n",
       "      <td>28</td>\n",
       "      <td>Haryana Steelers</td>\n",
       "      <td>650</td>\n",
       "      <td>0.518325</td>\n",
       "    </tr>\n",
       "  </tbody>\n",
       "</table>\n",
       "</div>"
      ],
      "text/plain": [
       "   match_played  team_id          team_name  total_points  points_n\n",
       "0            20        2  Dabang Delhi K.C.           742  1.000000\n",
       "1            20        4    Bengal Warriors           718  0.874346\n",
       "2            19        1    Bengaluru Bulls           656  0.549738\n",
       "3            20        7      Puneri Paltan           652  0.528796\n",
       "4            19       28   Haryana Steelers           650  0.518325"
      ]
     },
     "execution_count": 7,
     "metadata": {},
     "output_type": "execute_result"
    }
   ],
   "source": [
    "\n",
    "totalPoints = getData(totalPointsResp, 'total_points')\n",
    "totalPoints = totalPoints.drop(['rank'],axis=1)\n",
    "totalPoints['points_n'] = normaliseData(totalPoints[['total_points']])\n",
    "totalPoints.head()"
   ]
  },
  {
   "cell_type": "code",
   "execution_count": 8,
   "metadata": {},
   "outputs": [
    {
     "data": {
      "image/png": "[encoded data removed]",
      "text/plain": [
       "<Figure size 1080x360 with 1 Axes>"
      ]
     },
     "metadata": {
      "needs_background": "light"
     },
     "output_type": "display_data"
    }
   ],
   "source": [
    "fig = plt.figure(figsize=(15,5))\n",
    "plt.xticks(rotation=30)\n",
    "g = sns.barplot(x=\"team_name\", y=\"total_points\", data=totalPoints)"
   ]
  },
  {
   "cell_type": "markdown",
   "metadata": {},
   "source": [
    "#### Team raid points"
   ]
  },
  {
   "cell_type": "code",
   "execution_count": 9,
   "metadata": {},
   "outputs": [
    {
     "name": "stderr",
     "output_type": "stream",
     "text": [
      "C:\\Users\\Shashi\\Anaconda3\\lib\\site-packages\\sklearn\\preprocessing\\data.py:334: DataConversionWarning: Data with input dtype int64 were all converted to float64 by MinMaxScaler.\n",
      "  return self.partial_fit(X, y)\n"
     ]
    },
    {
     "data": {
      "text/html": [
       "<div>\n",
       "<style scoped>\n",
       "    .dataframe tbody tr th:only-of-type {\n",
       "        vertical-align: middle;\n",
       "    }\n",
       "\n",
       "    .dataframe tbody tr th {\n",
       "        vertical-align: top;\n",
       "    }\n",
       "\n",
       "    .dataframe thead th {\n",
       "        text-align: right;\n",
       "    }\n",
       "</style>\n",
       "<table border=\"1\" class=\"dataframe\">\n",
       "  <thead>\n",
       "    <tr style=\"text-align: right;\">\n",
       "      <th></th>\n",
       "      <th>match_played</th>\n",
       "      <th>team_id</th>\n",
       "      <th>team_name</th>\n",
       "      <th>raids</th>\n",
       "      <th>raids_n</th>\n",
       "    </tr>\n",
       "  </thead>\n",
       "  <tbody>\n",
       "    <tr>\n",
       "      <th>0</th>\n",
       "      <td>20</td>\n",
       "      <td>2</td>\n",
       "      <td>Dabang Delhi K.C.</td>\n",
       "      <td>361</td>\n",
       "      <td>1.000000</td>\n",
       "    </tr>\n",
       "    <tr>\n",
       "      <th>1</th>\n",
       "      <td>20</td>\n",
       "      <td>4</td>\n",
       "      <td>Bengal Warriors</td>\n",
       "      <td>340</td>\n",
       "      <td>0.847826</td>\n",
       "    </tr>\n",
       "    <tr>\n",
       "      <th>2</th>\n",
       "      <td>19</td>\n",
       "      <td>1</td>\n",
       "      <td>Bengaluru Bulls</td>\n",
       "      <td>309</td>\n",
       "      <td>0.623188</td>\n",
       "    </tr>\n",
       "    <tr>\n",
       "      <th>3</th>\n",
       "      <td>19</td>\n",
       "      <td>6</td>\n",
       "      <td>Patna Pirates</td>\n",
       "      <td>291</td>\n",
       "      <td>0.492754</td>\n",
       "    </tr>\n",
       "    <tr>\n",
       "      <th>4</th>\n",
       "      <td>20</td>\n",
       "      <td>7</td>\n",
       "      <td>Puneri Paltan</td>\n",
       "      <td>290</td>\n",
       "      <td>0.485507</td>\n",
       "    </tr>\n",
       "    <tr>\n",
       "      <th>5</th>\n",
       "      <td>19</td>\n",
       "      <td>28</td>\n",
       "      <td>Haryana Steelers</td>\n",
       "      <td>290</td>\n",
       "      <td>0.485507</td>\n",
       "    </tr>\n",
       "    <tr>\n",
       "      <th>6</th>\n",
       "      <td>20</td>\n",
       "      <td>29</td>\n",
       "      <td>Tamil Thalaivas</td>\n",
       "      <td>275</td>\n",
       "      <td>0.376812</td>\n",
       "    </tr>\n",
       "    <tr>\n",
       "      <th>7</th>\n",
       "      <td>18</td>\n",
       "      <td>8</td>\n",
       "      <td>Telugu Titans</td>\n",
       "      <td>273</td>\n",
       "      <td>0.362319</td>\n",
       "    </tr>\n",
       "    <tr>\n",
       "      <th>8</th>\n",
       "      <td>20</td>\n",
       "      <td>31</td>\n",
       "      <td>Gujarat Fortunegiants</td>\n",
       "      <td>265</td>\n",
       "      <td>0.304348</td>\n",
       "    </tr>\n",
       "    <tr>\n",
       "      <th>9</th>\n",
       "      <td>20</td>\n",
       "      <td>3</td>\n",
       "      <td>Jaipur Pink Panthers</td>\n",
       "      <td>261</td>\n",
       "      <td>0.275362</td>\n",
       "    </tr>\n",
       "    <tr>\n",
       "      <th>10</th>\n",
       "      <td>19</td>\n",
       "      <td>5</td>\n",
       "      <td>U Mumba</td>\n",
       "      <td>258</td>\n",
       "      <td>0.253623</td>\n",
       "    </tr>\n",
       "    <tr>\n",
       "      <th>11</th>\n",
       "      <td>18</td>\n",
       "      <td>30</td>\n",
       "      <td>U.P. Yoddha</td>\n",
       "      <td>223</td>\n",
       "      <td>0.000000</td>\n",
       "    </tr>\n",
       "  </tbody>\n",
       "</table>\n",
       "</div>"
      ],
      "text/plain": [
       "    match_played  team_id              team_name  raids   raids_n\n",
       "0             20        2      Dabang Delhi K.C.    361  1.000000\n",
       "1             20        4        Bengal Warriors    340  0.847826\n",
       "2             19        1        Bengaluru Bulls    309  0.623188\n",
       "3             19        6          Patna Pirates    291  0.492754\n",
       "4             20        7          Puneri Paltan    290  0.485507\n",
       "5             19       28       Haryana Steelers    290  0.485507\n",
       "6             20       29        Tamil Thalaivas    275  0.376812\n",
       "7             18        8          Telugu Titans    273  0.362319\n",
       "8             20       31  Gujarat Fortunegiants    265  0.304348\n",
       "9             20        3   Jaipur Pink Panthers    261  0.275362\n",
       "10            19        5                U Mumba    258  0.253623\n",
       "11            18       30            U.P. Yoddha    223  0.000000"
      ]
     },
     "execution_count": 9,
     "metadata": {},
     "output_type": "execute_result"
    }
   ],
   "source": [
    "\n",
    "teamRaids = getData(teamRaidsResp, 'raids')\n",
    "teamRaids = teamRaids.drop(['rank'],axis=1)\n",
    "teamRaids['raids_n'] = normaliseData(teamRaids[['raids']])\n",
    "teamRaids"
   ]
  },
  {
   "cell_type": "code",
   "execution_count": 10,
   "metadata": {},
   "outputs": [
    {
     "data": {
      "image/png": "[encoded data removed]",
      "text/plain": [
       "<Figure size 1080x360 with 1 Axes>"
      ]
     },
     "metadata": {
      "needs_background": "light"
     },
     "output_type": "display_data"
    }
   ],
   "source": [
    "fig = plt.figure(figsize=(15,5))\n",
    "plt.xticks(rotation=30)\n",
    "g = sns.barplot(x=\"team_name\", y=\"raids\", data=teamRaids)"
   ]
  },
  {
   "cell_type": "markdown",
   "metadata": {},
   "source": [
    "#### Team tackels"
   ]
  },
  {
   "cell_type": "code",
   "execution_count": 11,
   "metadata": {},
   "outputs": [
    {
     "name": "stderr",
     "output_type": "stream",
     "text": [
      "C:\\Users\\Shashi\\Anaconda3\\lib\\site-packages\\sklearn\\preprocessing\\data.py:334: DataConversionWarning: Data with input dtype int64 were all converted to float64 by MinMaxScaler.\n",
      "  return self.partial_fit(X, y)\n"
     ]
    },
    {
     "data": {
      "text/html": [
       "<div>\n",
       "<style scoped>\n",
       "    .dataframe tbody tr th:only-of-type {\n",
       "        vertical-align: middle;\n",
       "    }\n",
       "\n",
       "    .dataframe tbody tr th {\n",
       "        vertical-align: top;\n",
       "    }\n",
       "\n",
       "    .dataframe thead th {\n",
       "        text-align: right;\n",
       "    }\n",
       "</style>\n",
       "<table border=\"1\" class=\"dataframe\">\n",
       "  <thead>\n",
       "    <tr style=\"text-align: right;\">\n",
       "      <th></th>\n",
       "      <th>match_played</th>\n",
       "      <th>team_id</th>\n",
       "      <th>team_name</th>\n",
       "      <th>tackels</th>\n",
       "      <th>tackels_n</th>\n",
       "    </tr>\n",
       "  </thead>\n",
       "  <tbody>\n",
       "    <tr>\n",
       "      <th>0</th>\n",
       "      <td>20</td>\n",
       "      <td>7</td>\n",
       "      <td>Puneri Paltan</td>\n",
       "      <td>207</td>\n",
       "      <td>1.000000</td>\n",
       "    </tr>\n",
       "    <tr>\n",
       "      <th>1</th>\n",
       "      <td>20</td>\n",
       "      <td>3</td>\n",
       "      <td>Jaipur Pink Panthers</td>\n",
       "      <td>189</td>\n",
       "      <td>0.617021</td>\n",
       "    </tr>\n",
       "    <tr>\n",
       "      <th>2</th>\n",
       "      <td>20</td>\n",
       "      <td>31</td>\n",
       "      <td>Gujarat Fortunegiants</td>\n",
       "      <td>187</td>\n",
       "      <td>0.574468</td>\n",
       "    </tr>\n",
       "    <tr>\n",
       "      <th>3</th>\n",
       "      <td>20</td>\n",
       "      <td>4</td>\n",
       "      <td>Bengal Warriors</td>\n",
       "      <td>182</td>\n",
       "      <td>0.468085</td>\n",
       "    </tr>\n",
       "    <tr>\n",
       "      <th>4</th>\n",
       "      <td>20</td>\n",
       "      <td>2</td>\n",
       "      <td>Dabang Delhi K.C.</td>\n",
       "      <td>181</td>\n",
       "      <td>0.446809</td>\n",
       "    </tr>\n",
       "  </tbody>\n",
       "</table>\n",
       "</div>"
      ],
      "text/plain": [
       "   match_played  team_id              team_name  tackels  tackels_n\n",
       "0            20        7          Puneri Paltan      207   1.000000\n",
       "1            20        3   Jaipur Pink Panthers      189   0.617021\n",
       "2            20       31  Gujarat Fortunegiants      187   0.574468\n",
       "3            20        4        Bengal Warriors      182   0.468085\n",
       "4            20        2      Dabang Delhi K.C.      181   0.446809"
      ]
     },
     "execution_count": 11,
     "metadata": {},
     "output_type": "execute_result"
    }
   ],
   "source": [
    "teamTackels = getData(teamTackelsResp, 'tackels')\n",
    "teamTackels = teamTackels.drop(['rank'],axis=1)\n",
    "teamTackels['tackels_n'] = normaliseData(teamTackels[['tackels']])\n",
    "teamTackels.head()"
   ]
  },
  {
   "cell_type": "code",
   "execution_count": 12,
   "metadata": {},
   "outputs": [
    {
     "data": {
      "image/png": "[encoded data removed]",
      "text/plain": [
       "<Figure size 1080x360 with 1 Axes>"
      ]
     },
     "metadata": {
      "needs_background": "light"
     },
     "output_type": "display_data"
    }
   ],
   "source": [
    "fig = plt.figure(figsize=(15,5))\n",
    "plt.xticks(rotation=30)\n",
    "g = sns.barplot(x=\"team_name\", y=\"tackels\", data=teamTackels)"
   ]
  },
  {
   "cell_type": "markdown",
   "metadata": {},
   "source": [
    "#### Player Raids\n",
    "### Naveen kumar have more points"
   ]
  },
  {
   "cell_type": "code",
   "execution_count": 13,
   "metadata": {},
   "outputs": [
    {
     "name": "stderr",
     "output_type": "stream",
     "text": [
      "C:\\Users\\Shashi\\Anaconda3\\lib\\site-packages\\sklearn\\preprocessing\\data.py:334: DataConversionWarning: Data with input dtype int64 were all converted to float64 by MinMaxScaler.\n",
      "  return self.partial_fit(X, y)\n"
     ]
    },
    {
     "data": {
      "text/html": [
       "<div>\n",
       "<style scoped>\n",
       "    .dataframe tbody tr th:only-of-type {\n",
       "        vertical-align: middle;\n",
       "    }\n",
       "\n",
       "    .dataframe tbody tr th {\n",
       "        vertical-align: top;\n",
       "    }\n",
       "\n",
       "    .dataframe thead th {\n",
       "        text-align: right;\n",
       "    }\n",
       "</style>\n",
       "<table border=\"1\" class=\"dataframe\">\n",
       "  <thead>\n",
       "    <tr style=\"text-align: right;\">\n",
       "      <th></th>\n",
       "      <th>match_played</th>\n",
       "      <th>player_id</th>\n",
       "      <th>player_name</th>\n",
       "      <th>team_full_name</th>\n",
       "      <th>team_id</th>\n",
       "      <th>raids</th>\n",
       "      <th>p_raids_n</th>\n",
       "    </tr>\n",
       "  </thead>\n",
       "  <tbody>\n",
       "    <tr>\n",
       "      <th>0</th>\n",
       "      <td>20</td>\n",
       "      <td>2296</td>\n",
       "      <td>Naveen Kumar</td>\n",
       "      <td>Dabang Delhi K.C.</td>\n",
       "      <td>2</td>\n",
       "      <td>213</td>\n",
       "      <td>1.000000</td>\n",
       "    </tr>\n",
       "    <tr>\n",
       "      <th>1</th>\n",
       "      <td>19</td>\n",
       "      <td>197</td>\n",
       "      <td>Pardeep Narwal</td>\n",
       "      <td>Patna Pirates</td>\n",
       "      <td>6</td>\n",
       "      <td>190</td>\n",
       "      <td>0.891509</td>\n",
       "    </tr>\n",
       "    <tr>\n",
       "      <th>2</th>\n",
       "      <td>19</td>\n",
       "      <td>318</td>\n",
       "      <td>Pawan Kumar Sehrawat</td>\n",
       "      <td>Bengaluru Bulls</td>\n",
       "      <td>1</td>\n",
       "      <td>187</td>\n",
       "      <td>0.877358</td>\n",
       "    </tr>\n",
       "    <tr>\n",
       "      <th>3</th>\n",
       "      <td>20</td>\n",
       "      <td>143</td>\n",
       "      <td>Maninder Singh</td>\n",
       "      <td>Bengal Warriors</td>\n",
       "      <td>4</td>\n",
       "      <td>171</td>\n",
       "      <td>0.801887</td>\n",
       "    </tr>\n",
       "    <tr>\n",
       "      <th>4</th>\n",
       "      <td>18</td>\n",
       "      <td>2026</td>\n",
       "      <td>Siddharth Sirish Desai</td>\n",
       "      <td>Telugu Titans</td>\n",
       "      <td>8</td>\n",
       "      <td>143</td>\n",
       "      <td>0.669811</td>\n",
       "    </tr>\n",
       "  </tbody>\n",
       "</table>\n",
       "</div>"
      ],
      "text/plain": [
       "   match_played  player_id             player_name     team_full_name  \\\n",
       "0            20       2296            Naveen Kumar  Dabang Delhi K.C.   \n",
       "1            19        197          Pardeep Narwal      Patna Pirates   \n",
       "2            19        318    Pawan Kumar Sehrawat    Bengaluru Bulls   \n",
       "3            20        143          Maninder Singh    Bengal Warriors   \n",
       "4            18       2026  Siddharth Sirish Desai      Telugu Titans   \n",
       "\n",
       "   team_id  raids  p_raids_n  \n",
       "0        2    213   1.000000  \n",
       "1        6    190   0.891509  \n",
       "2        1    187   0.877358  \n",
       "3        4    171   0.801887  \n",
       "4        8    143   0.669811  "
      ]
     },
     "execution_count": 13,
     "metadata": {},
     "output_type": "execute_result"
    }
   ],
   "source": [
    "playerRaids = getData(playerRaidsResp, 'raids')\n",
    "playerRaids = playerRaids[['match_played', 'player_id', 'player_name', 'team_full_name', 'team_id', 'raids']]\n",
    "playerRaids['p_raids_n'] = normaliseData(playerRaids[['raids']])\n",
    "playerRaids.head()"
   ]
  },
  {
   "cell_type": "markdown",
   "metadata": {},
   "source": [
    "#### Player Tackel points\n",
    "### Sandeep kumar dhull and sumit have more points"
   ]
  },
  {
   "cell_type": "code",
   "execution_count": 14,
   "metadata": {},
   "outputs": [
    {
     "name": "stderr",
     "output_type": "stream",
     "text": [
      "C:\\Users\\Shashi\\Anaconda3\\lib\\site-packages\\sklearn\\preprocessing\\data.py:334: DataConversionWarning: Data with input dtype int64 were all converted to float64 by MinMaxScaler.\n",
      "  return self.partial_fit(X, y)\n"
     ]
    },
    {
     "data": {
      "text/html": [
       "<div>\n",
       "<style scoped>\n",
       "    .dataframe tbody tr th:only-of-type {\n",
       "        vertical-align: middle;\n",
       "    }\n",
       "\n",
       "    .dataframe tbody tr th {\n",
       "        vertical-align: top;\n",
       "    }\n",
       "\n",
       "    .dataframe thead th {\n",
       "        text-align: right;\n",
       "    }\n",
       "</style>\n",
       "<table border=\"1\" class=\"dataframe\">\n",
       "  <thead>\n",
       "    <tr style=\"text-align: right;\">\n",
       "      <th></th>\n",
       "      <th>match_played</th>\n",
       "      <th>player_id</th>\n",
       "      <th>player_name</th>\n",
       "      <th>team_full_name</th>\n",
       "      <th>team_id</th>\n",
       "      <th>tackels</th>\n",
       "      <th>p_tackels_n</th>\n",
       "    </tr>\n",
       "  </thead>\n",
       "  <tbody>\n",
       "    <tr>\n",
       "      <th>0</th>\n",
       "      <td>20</td>\n",
       "      <td>290</td>\n",
       "      <td>Sandeep Kumar Dhull</td>\n",
       "      <td>Jaipur Pink Panthers</td>\n",
       "      <td>3</td>\n",
       "      <td>60</td>\n",
       "      <td>1.000000</td>\n",
       "    </tr>\n",
       "    <tr>\n",
       "      <th>1</th>\n",
       "      <td>18</td>\n",
       "      <td>2330</td>\n",
       "      <td>Sumit</td>\n",
       "      <td>U.P. Yoddha</td>\n",
       "      <td>30</td>\n",
       "      <td>60</td>\n",
       "      <td>1.000000</td>\n",
       "    </tr>\n",
       "    <tr>\n",
       "      <th>2</th>\n",
       "      <td>20</td>\n",
       "      <td>157</td>\n",
       "      <td>Ravinder Pahal</td>\n",
       "      <td>Dabang Delhi K.C.</td>\n",
       "      <td>2</td>\n",
       "      <td>57</td>\n",
       "      <td>0.949153</td>\n",
       "    </tr>\n",
       "    <tr>\n",
       "      <th>3</th>\n",
       "      <td>19</td>\n",
       "      <td>259</td>\n",
       "      <td>Fazel Atrachali</td>\n",
       "      <td>U Mumba</td>\n",
       "      <td>5</td>\n",
       "      <td>57</td>\n",
       "      <td>0.949153</td>\n",
       "    </tr>\n",
       "    <tr>\n",
       "      <th>4</th>\n",
       "      <td>20</td>\n",
       "      <td>621</td>\n",
       "      <td>Baldev Singh</td>\n",
       "      <td>Bengal Warriors</td>\n",
       "      <td>4</td>\n",
       "      <td>54</td>\n",
       "      <td>0.898305</td>\n",
       "    </tr>\n",
       "  </tbody>\n",
       "</table>\n",
       "</div>"
      ],
      "text/plain": [
       "   match_played  player_id          player_name        team_full_name  \\\n",
       "0            20        290  Sandeep Kumar Dhull  Jaipur Pink Panthers   \n",
       "1            18       2330                Sumit           U.P. Yoddha   \n",
       "2            20        157       Ravinder Pahal     Dabang Delhi K.C.   \n",
       "3            19        259      Fazel Atrachali               U Mumba   \n",
       "4            20        621         Baldev Singh       Bengal Warriors   \n",
       "\n",
       "   team_id  tackels  p_tackels_n  \n",
       "0        3       60     1.000000  \n",
       "1       30       60     1.000000  \n",
       "2        2       57     0.949153  \n",
       "3        5       57     0.949153  \n",
       "4        4       54     0.898305  "
      ]
     },
     "execution_count": 14,
     "metadata": {},
     "output_type": "execute_result"
    }
   ],
   "source": [
    "playerTackels = getData(playerTackelsResp, 'tackels')\n",
    "playerTackels = playerTackels[['match_played', 'player_id', 'player_name', 'team_full_name', 'team_id', 'tackels']]\n",
    "playerTackels['p_tackels_n'] = normaliseData(playerTackels[['tackels']])\n",
    "playerTackels.head()"
   ]
  },
  {
   "cell_type": "markdown",
   "metadata": {},
   "source": [
    "#### Team All outs points\n",
    "### Dabang delhi have more points"
   ]
  },
  {
   "cell_type": "code",
   "execution_count": 16,
   "metadata": {},
   "outputs": [
    {
     "name": "stderr",
     "output_type": "stream",
     "text": [
      "C:\\Users\\Shashi\\Anaconda3\\lib\\site-packages\\sklearn\\preprocessing\\data.py:334: DataConversionWarning: Data with input dtype int64 were all converted to float64 by MinMaxScaler.\n",
      "  return self.partial_fit(X, y)\n"
     ]
    },
    {
     "data": {
      "text/html": [
       "<div>\n",
       "<style scoped>\n",
       "    .dataframe tbody tr th:only-of-type {\n",
       "        vertical-align: middle;\n",
       "    }\n",
       "\n",
       "    .dataframe tbody tr th {\n",
       "        vertical-align: top;\n",
       "    }\n",
       "\n",
       "    .dataframe thead th {\n",
       "        text-align: right;\n",
       "    }\n",
       "</style>\n",
       "<table border=\"1\" class=\"dataframe\">\n",
       "  <thead>\n",
       "    <tr style=\"text-align: right;\">\n",
       "      <th></th>\n",
       "      <th>match_played</th>\n",
       "      <th>rank</th>\n",
       "      <th>team_id</th>\n",
       "      <th>team_name</th>\n",
       "      <th>total</th>\n",
       "      <th>all_out_points</th>\n",
       "      <th>all_out_points_n</th>\n",
       "    </tr>\n",
       "  </thead>\n",
       "  <tbody>\n",
       "    <tr>\n",
       "      <th>0</th>\n",
       "      <td>20</td>\n",
       "      <td>1</td>\n",
       "      <td>2</td>\n",
       "      <td>Dabang Delhi K.C.</td>\n",
       "      <td>34</td>\n",
       "      <td>102</td>\n",
       "      <td>1.000000</td>\n",
       "    </tr>\n",
       "    <tr>\n",
       "      <th>1</th>\n",
       "      <td>20</td>\n",
       "      <td>1</td>\n",
       "      <td>4</td>\n",
       "      <td>Bengal Warriors</td>\n",
       "      <td>34</td>\n",
       "      <td>102</td>\n",
       "      <td>1.000000</td>\n",
       "    </tr>\n",
       "    <tr>\n",
       "      <th>2</th>\n",
       "      <td>19</td>\n",
       "      <td>3</td>\n",
       "      <td>6</td>\n",
       "      <td>Patna Pirates</td>\n",
       "      <td>28</td>\n",
       "      <td>84</td>\n",
       "      <td>0.714286</td>\n",
       "    </tr>\n",
       "    <tr>\n",
       "      <th>3</th>\n",
       "      <td>19</td>\n",
       "      <td>4</td>\n",
       "      <td>28</td>\n",
       "      <td>Haryana Steelers</td>\n",
       "      <td>27</td>\n",
       "      <td>81</td>\n",
       "      <td>0.666667</td>\n",
       "    </tr>\n",
       "    <tr>\n",
       "      <th>4</th>\n",
       "      <td>19</td>\n",
       "      <td>5</td>\n",
       "      <td>5</td>\n",
       "      <td>U Mumba</td>\n",
       "      <td>26</td>\n",
       "      <td>78</td>\n",
       "      <td>0.619048</td>\n",
       "    </tr>\n",
       "  </tbody>\n",
       "</table>\n",
       "</div>"
      ],
      "text/plain": [
       "   match_played rank  team_id          team_name  total  all_out_points  \\\n",
       "0            20    1        2  Dabang Delhi K.C.     34             102   \n",
       "1            20    1        4    Bengal Warriors     34             102   \n",
       "2            19    3        6      Patna Pirates     28              84   \n",
       "3            19    4       28   Haryana Steelers     27              81   \n",
       "4            19    5        5            U Mumba     26              78   \n",
       "\n",
       "   all_out_points_n  \n",
       "0          1.000000  \n",
       "1          1.000000  \n",
       "2          0.714286  \n",
       "3          0.666667  \n",
       "4          0.619048  "
      ]
     },
     "execution_count": 16,
     "metadata": {},
     "output_type": "execute_result"
    }
   ],
   "source": [
    "teamAllOuts = getData(teamAllOutsResp, 'total')\n",
    "teamAllOuts['all_out_points'] = teamAllOuts['total'] * 3\n",
    "teamAllOuts['all_out_points_n'] = normaliseData(teamAllOuts[['total']])\n",
    "teamAllOuts.head()"
   ]
  },
  {
   "cell_type": "code",
   "execution_count": null,
   "metadata": {},
   "outputs": [],
   "source": []
  },
  {
   "cell_type": "code",
   "execution_count": 17,
   "metadata": {},
   "outputs": [],
   "source": [
    "#team_raids normalise\n",
    "#team tackels normalise\n",
    "#player_raids group_by avg or sum\n",
    "#player_tackels groupy_by\n",
    "# team total\n",
    "#historical data team 1 and team 2 adding"
   ]
  },
  {
   "cell_type": "markdown",
   "metadata": {},
   "source": [
    "#### Correlation for the team points\n",
    "#### All out points variable is highly correlated with total points "
   ]
  },
  {
   "cell_type": "code",
   "execution_count": 20,
   "metadata": {},
   "outputs": [
    {
     "data": {
      "image/png": "[encoded data removed]",
      "text/plain": [
       "<Figure size 432x288 with 2 Axes>"
      ]
     },
     "metadata": {
      "needs_background": "light"
     },
     "output_type": "display_data"
    }
   ],
   "source": [
    "dfs = [\n",
    "    totalPoints[['team_id', 'total_points']],\n",
    "    playerRaids[['team_id', 'raids']],\n",
    "    playerTackels[['team_id', 'tackels']],\n",
    "    teamAllOuts[['team_id', 'all_out_points', 'team_name']]\n",
    "]\n",
    "df2 = df_final = reduce(lambda left,right: pd.merge(left,right,on='team_id', how='inner'), dfs)\n",
    "df2 = df2.drop(columns=['team_id'],axis=1)\n",
    "sns.heatmap(df2.corr(), annot=True, fmt=\"g\", cmap='viridis')\n",
    "plt.show()"
   ]
  },
  {
   "cell_type": "markdown",
   "metadata": {},
   "source": [
    "#### Mergingn all the seasons data in to one data fram"
   ]
  },
  {
   "cell_type": "code",
   "execution_count": 26,
   "metadata": {},
   "outputs": [],
   "source": [
    "def getSeasonMatches(jsonResp):\n",
    "    jsonResp = json_normalize(jsonResp.json()['matches'])\n",
    "    season = jsonResp\n",
    "    dfs1 = pd.DataFrame(season)\n",
    "    dfs1 = dfs1[['venue_id', 'participants']]\n",
    "    lst_dict = []  \n",
    "    for index, row in dfs1.iterrows():\n",
    "        lst_dict.append(\n",
    "            {'match': \"%s-%s\" % (row['participants'][0]['name'],row['participants'][1]['name']),\n",
    "             'result': 1 if 'highlight' in row['participants'][0] else 0,\n",
    "             'win_points': row['participants'][0]['value'],\n",
    "             'team_id': row['participants'][0]['id'],\n",
    "             'venue_id': row['venue_id']\n",
    "            })\n",
    "    \n",
    "    match = pd.DataFrame(lst_dict)\n",
    "    \n",
    "    return match"
   ]
  },
  {
   "cell_type": "code",
   "execution_count": 27,
   "metadata": {},
   "outputs": [],
   "source": [
    "file_list = list() \n",
    "for file in [season1Resp,season2Resp,season3Resp,season4Resp,season5Resp,season6Resp]:\n",
    "    file_list.append(getSeasonMatches(file))\n",
    "    seasonsData = pd.concat(file_list,axis=0,ignore_index=True)  "
   ]
  },
  {
   "cell_type": "markdown",
   "metadata": {},
   "source": [
    "#### Correlation for All the seasons data \n",
    "#### Total points and result are highly correlated and next to that raids "
   ]
  },
  {
   "cell_type": "code",
   "execution_count": 28,
   "metadata": {},
   "outputs": [
    {
     "data": {
      "image/png": "[encoded data removed]",
      "text/plain": [
       "<Figure size 1080x360 with 2 Axes>"
      ]
     },
     "metadata": {
      "needs_background": "light"
     },
     "output_type": "display_data"
    }
   ],
   "source": [
    "train = seasonsData\n",
    "train.win_points = train.win_points.astype(int)\n",
    "train.team_id = train.team_id.astype(int)\n",
    "train.venue_id = train.venue_id.astype(int)\n",
    "\n",
    "dfs = [train, teamRaids[['team_id', 'raids']], teamTackels[['team_id', 'tackels']], teamAllOuts[['team_id', 'all_out_points']]]\n",
    "df_final = reduce(lambda left,right: pd.merge(left,right,on='team_id', how='inner'), dfs)\n",
    "train = df_final\n",
    "fig = plt.figure(figsize=(15,5))\n",
    "sns.heatmap(train[['result', 'win_points', 'raids', 'tackels', 'all_out_points']].corr(), annot=True, fmt=\"g\", cmap='viridis')\n",
    "plt.show()"
   ]
  },
  {
   "cell_type": "code",
   "execution_count": 29,
   "metadata": {},
   "outputs": [
    {
     "name": "stderr",
     "output_type": "stream",
     "text": [
      "C:\\Users\\Shashi\\Anaconda3\\lib\\site-packages\\sklearn\\preprocessing\\data.py:334: DataConversionWarning: Data with input dtype int32 were all converted to float64 by MinMaxScaler.\n",
      "  return self.partial_fit(X, y)\n",
      "C:\\Users\\Shashi\\Anaconda3\\lib\\site-packages\\sklearn\\preprocessing\\data.py:334: DataConversionWarning: Data with input dtype int32 were all converted to float64 by MinMaxScaler.\n",
      "  return self.partial_fit(X, y)\n",
      "C:\\Users\\Shashi\\Anaconda3\\lib\\site-packages\\sklearn\\preprocessing\\data.py:334: DataConversionWarning: Data with input dtype int64 were all converted to float64 by MinMaxScaler.\n",
      "  return self.partial_fit(X, y)\n",
      "C:\\Users\\Shashi\\Anaconda3\\lib\\site-packages\\sklearn\\preprocessing\\data.py:334: DataConversionWarning: Data with input dtype int64 were all converted to float64 by MinMaxScaler.\n",
      "  return self.partial_fit(X, y)\n",
      "C:\\Users\\Shashi\\Anaconda3\\lib\\site-packages\\sklearn\\preprocessing\\data.py:334: DataConversionWarning: Data with input dtype int64 were all converted to float64 by MinMaxScaler.\n",
      "  return self.partial_fit(X, y)\n"
     ]
    },
    {
     "data": {
      "text/html": [
       "<div>\n",
       "<style scoped>\n",
       "    .dataframe tbody tr th:only-of-type {\n",
       "        vertical-align: middle;\n",
       "    }\n",
       "\n",
       "    .dataframe tbody tr th {\n",
       "        vertical-align: top;\n",
       "    }\n",
       "\n",
       "    .dataframe thead th {\n",
       "        text-align: right;\n",
       "    }\n",
       "</style>\n",
       "<table border=\"1\" class=\"dataframe\">\n",
       "  <thead>\n",
       "    <tr style=\"text-align: right;\">\n",
       "      <th></th>\n",
       "      <th>match</th>\n",
       "      <th>result</th>\n",
       "      <th>team_id</th>\n",
       "      <th>venue_id</th>\n",
       "      <th>win_points</th>\n",
       "      <th>raids</th>\n",
       "      <th>tackels</th>\n",
       "      <th>all_out_points</th>\n",
       "    </tr>\n",
       "  </thead>\n",
       "  <tbody>\n",
       "    <tr>\n",
       "      <th>0</th>\n",
       "      <td>U Mumba-Jaipur Pink Panthers</td>\n",
       "      <td>1</td>\n",
       "      <td>0.133333</td>\n",
       "      <td>5</td>\n",
       "      <td>0.555556</td>\n",
       "      <td>0.253623</td>\n",
       "      <td>0.170213</td>\n",
       "      <td>0.619048</td>\n",
       "    </tr>\n",
       "    <tr>\n",
       "      <th>1</th>\n",
       "      <td>U Mumba-Bengal Warriors</td>\n",
       "      <td>1</td>\n",
       "      <td>0.133333</td>\n",
       "      <td>5</td>\n",
       "      <td>0.388889</td>\n",
       "      <td>0.253623</td>\n",
       "      <td>0.170213</td>\n",
       "      <td>0.619048</td>\n",
       "    </tr>\n",
       "    <tr>\n",
       "      <th>2</th>\n",
       "      <td>U Mumba-Telugu Titans</td>\n",
       "      <td>0</td>\n",
       "      <td>0.133333</td>\n",
       "      <td>5</td>\n",
       "      <td>0.370370</td>\n",
       "      <td>0.253623</td>\n",
       "      <td>0.170213</td>\n",
       "      <td>0.619048</td>\n",
       "    </tr>\n",
       "    <tr>\n",
       "      <th>3</th>\n",
       "      <td>U Mumba-Patna Pirates</td>\n",
       "      <td>1</td>\n",
       "      <td>0.133333</td>\n",
       "      <td>5</td>\n",
       "      <td>0.388889</td>\n",
       "      <td>0.253623</td>\n",
       "      <td>0.170213</td>\n",
       "      <td>0.619048</td>\n",
       "    </tr>\n",
       "    <tr>\n",
       "      <th>4</th>\n",
       "      <td>U Mumba-Puneri Paltan</td>\n",
       "      <td>1</td>\n",
       "      <td>0.133333</td>\n",
       "      <td>2</td>\n",
       "      <td>0.537037</td>\n",
       "      <td>0.253623</td>\n",
       "      <td>0.170213</td>\n",
       "      <td>0.619048</td>\n",
       "    </tr>\n",
       "  </tbody>\n",
       "</table>\n",
       "</div>"
      ],
      "text/plain": [
       "                          match  result   team_id  venue_id  win_points  \\\n",
       "0  U Mumba-Jaipur Pink Panthers       1  0.133333         5    0.555556   \n",
       "1       U Mumba-Bengal Warriors       1  0.133333         5    0.388889   \n",
       "2         U Mumba-Telugu Titans       0  0.133333         5    0.370370   \n",
       "3         U Mumba-Patna Pirates       1  0.133333         5    0.388889   \n",
       "4         U Mumba-Puneri Paltan       1  0.133333         2    0.537037   \n",
       "\n",
       "      raids   tackels  all_out_points  \n",
       "0  0.253623  0.170213        0.619048  \n",
       "1  0.253623  0.170213        0.619048  \n",
       "2  0.253623  0.170213        0.619048  \n",
       "3  0.253623  0.170213        0.619048  \n",
       "4  0.253623  0.170213        0.619048  "
      ]
     },
     "execution_count": 29,
     "metadata": {},
     "output_type": "execute_result"
    }
   ],
   "source": [
    "train['win_points'] = normaliseData(train[['win_points']])\n",
    "train['team_id'] = normaliseData(train[['team_id']])\n",
    "train['raids'] = normaliseData(train[['raids']])\n",
    "train['tackels'] = normaliseData(train[['tackels']])\n",
    "train['all_out_points'] = normaliseData(train[['all_out_points']])\n",
    "train.head()"
   ]
  },
  {
   "cell_type": "code",
   "execution_count": 30,
   "metadata": {},
   "outputs": [
    {
     "name": "stderr",
     "output_type": "stream",
     "text": [
      "C:\\Users\\Shashi\\Anaconda3\\lib\\site-packages\\sklearn\\preprocessing\\data.py:334: DataConversionWarning: Data with input dtype int32 were all converted to float64 by MinMaxScaler.\n",
      "  return self.partial_fit(X, y)\n",
      "C:\\Users\\Shashi\\Anaconda3\\lib\\site-packages\\sklearn\\preprocessing\\data.py:334: DataConversionWarning: Data with input dtype int64 were all converted to float64 by MinMaxScaler.\n",
      "  return self.partial_fit(X, y)\n",
      "C:\\Users\\Shashi\\Anaconda3\\lib\\site-packages\\sklearn\\preprocessing\\data.py:334: DataConversionWarning: Data with input dtype int64 were all converted to float64 by MinMaxScaler.\n",
      "  return self.partial_fit(X, y)\n",
      "C:\\Users\\Shashi\\Anaconda3\\lib\\site-packages\\sklearn\\preprocessing\\data.py:334: DataConversionWarning: Data with input dtype int64 were all converted to float64 by MinMaxScaler.\n",
      "  return self.partial_fit(X, y)\n"
     ]
    },
    {
     "data": {
      "text/html": [
       "<div>\n",
       "<style scoped>\n",
       "    .dataframe tbody tr th:only-of-type {\n",
       "        vertical-align: middle;\n",
       "    }\n",
       "\n",
       "    .dataframe tbody tr th {\n",
       "        vertical-align: top;\n",
       "    }\n",
       "\n",
       "    .dataframe thead th {\n",
       "        text-align: right;\n",
       "    }\n",
       "</style>\n",
       "<table border=\"1\" class=\"dataframe\">\n",
       "  <thead>\n",
       "    <tr style=\"text-align: right;\">\n",
       "      <th></th>\n",
       "      <th>match</th>\n",
       "      <th>result</th>\n",
       "      <th>team_id</th>\n",
       "      <th>venue_id</th>\n",
       "      <th>win_points</th>\n",
       "      <th>raids</th>\n",
       "      <th>tackels</th>\n",
       "      <th>all_out_points</th>\n",
       "    </tr>\n",
       "  </thead>\n",
       "  <tbody>\n",
       "    <tr>\n",
       "      <th>0</th>\n",
       "      <td>Telugu Titans-U Mumba</td>\n",
       "      <td>0</td>\n",
       "      <td>8</td>\n",
       "      <td>9</td>\n",
       "      <td>0.50</td>\n",
       "      <td>0.362319</td>\n",
       "      <td>0.042553</td>\n",
       "      <td>0.0</td>\n",
       "    </tr>\n",
       "    <tr>\n",
       "      <th>1</th>\n",
       "      <td>Telugu Titans-Tamil Thalaivas</td>\n",
       "      <td>0</td>\n",
       "      <td>8</td>\n",
       "      <td>9</td>\n",
       "      <td>0.52</td>\n",
       "      <td>0.362319</td>\n",
       "      <td>0.042553</td>\n",
       "      <td>0.0</td>\n",
       "    </tr>\n",
       "    <tr>\n",
       "      <th>2</th>\n",
       "      <td>Telugu Titans-Dabang Delhi K.C.</td>\n",
       "      <td>0</td>\n",
       "      <td>8</td>\n",
       "      <td>9</td>\n",
       "      <td>0.66</td>\n",
       "      <td>0.362319</td>\n",
       "      <td>0.042553</td>\n",
       "      <td>0.0</td>\n",
       "    </tr>\n",
       "    <tr>\n",
       "      <th>3</th>\n",
       "      <td>Telugu Titans-Patna Pirates</td>\n",
       "      <td>0</td>\n",
       "      <td>8</td>\n",
       "      <td>9</td>\n",
       "      <td>0.44</td>\n",
       "      <td>0.362319</td>\n",
       "      <td>0.042553</td>\n",
       "      <td>0.0</td>\n",
       "    </tr>\n",
       "    <tr>\n",
       "      <th>4</th>\n",
       "      <td>Telugu Titans-U.P. Yoddha</td>\n",
       "      <td>1</td>\n",
       "      <td>8</td>\n",
       "      <td>5</td>\n",
       "      <td>0.40</td>\n",
       "      <td>0.362319</td>\n",
       "      <td>0.042553</td>\n",
       "      <td>0.0</td>\n",
       "    </tr>\n",
       "  </tbody>\n",
       "</table>\n",
       "</div>"
      ],
      "text/plain": [
       "                             match  result  team_id  venue_id  win_points  \\\n",
       "0            Telugu Titans-U Mumba       0        8         9        0.50   \n",
       "1    Telugu Titans-Tamil Thalaivas       0        8         9        0.52   \n",
       "2  Telugu Titans-Dabang Delhi K.C.       0        8         9        0.66   \n",
       "3      Telugu Titans-Patna Pirates       0        8         9        0.44   \n",
       "4        Telugu Titans-U.P. Yoddha       1        8         5        0.40   \n",
       "\n",
       "      raids   tackels  all_out_points  \n",
       "0  0.362319  0.042553             0.0  \n",
       "1  0.362319  0.042553             0.0  \n",
       "2  0.362319  0.042553             0.0  \n",
       "3  0.362319  0.042553             0.0  \n",
       "4  0.362319  0.042553             0.0  "
      ]
     },
     "execution_count": 30,
     "metadata": {},
     "output_type": "execute_result"
    }
   ],
   "source": [
    "test  = getSeasonMatches(season7Resp)\n",
    "test.win_points = test['win_points'].replace(r'', np.nan, regex=True)\n",
    "test.win_points = test.win_points.fillna(0)\n",
    "test.win_points = test.win_points.astype(int)\n",
    "test.team_id = test.team_id.astype(int)\n",
    "test.venue_id = test.venue_id.astype(int)\n",
    "\n",
    "dfs = [test, teamRaids[['team_id', 'raids']], teamTackels[['team_id', 'tackels']], teamAllOuts[['team_id', 'all_out_points']]]\n",
    "df_final = reduce(lambda left,right: pd.merge(left,right,on='team_id', how='inner'), dfs)\n",
    "test = df_final\n",
    "\n",
    "test['win_points'] = normaliseData(test[['win_points']])\n",
    "test['raids'] = normaliseData(test[['raids']])\n",
    "test['tackels'] = normaliseData(test[['tackels']])\n",
    "test['all_out_points'] = normaliseData(test[['all_out_points']])\n",
    "test.head()"
   ]
  },
  {
   "cell_type": "code",
   "execution_count": 31,
   "metadata": {},
   "outputs": [],
   "source": [
    "X_train = train.drop(columns=['result', 'match', 'team_id', 'venue_id'], axis=1)\n",
    "Y_train = train['result']\n",
    "X_test = test.drop(columns=['match', 'result', 'team_id', 'venue_id'], axis=1)"
   ]
  },
  {
   "cell_type": "code",
   "execution_count": 32,
   "metadata": {},
   "outputs": [
    {
     "data": {
      "text/plain": [
       "RFE(estimator=LogisticRegression(C=1.0, class_weight=None, dual=False, fit_intercept=True,\n",
       "          intercept_scaling=1, max_iter=100, multi_class='warn',\n",
       "          n_jobs=None, penalty='l2', random_state=None, solver='warn',\n",
       "          tol=0.0001, verbose=0, warm_start=False),\n",
       "  n_features_to_select=10, step=1, verbose=0)"
      ]
     },
     "execution_count": 32,
     "metadata": {},
     "output_type": "execute_result"
    }
   ],
   "source": [
    "lr = LogisticRegression() \n",
    "lr.fit(X_train, Y_train)\n",
    "\n",
    "rfe = RFE(lr, 10)             # running RFE\n",
    "rfe = rfe.fit(X_train, Y_train)\n",
    "rfe"
   ]
  },
  {
   "cell_type": "code",
   "execution_count": 33,
   "metadata": {},
   "outputs": [
    {
     "data": {
      "text/plain": [
       "[('win_points', True, 1),\n",
       " ('raids', True, 1),\n",
       " ('tackels', True, 1),\n",
       " ('all_out_points', True, 1)]"
      ]
     },
     "execution_count": 33,
     "metadata": {},
     "output_type": "execute_result"
    }
   ],
   "source": [
    "list(zip(X_train.columns,rfe.support_,rfe.ranking_))"
   ]
  },
  {
   "cell_type": "code",
   "execution_count": 34,
   "metadata": {},
   "outputs": [
    {
     "data": {
      "text/plain": [
       "Index(['win_points', 'raids', 'tackels', 'all_out_points'], dtype='object')"
      ]
     },
     "execution_count": 34,
     "metadata": {},
     "output_type": "execute_result"
    }
   ],
   "source": [
    "col = X_train.columns[rfe.support_]\n",
    "col"
   ]
  },
  {
   "cell_type": "code",
   "execution_count": 35,
   "metadata": {},
   "outputs": [
    {
     "data": {
      "text/plain": [
       "Index([], dtype='object')"
      ]
     },
     "execution_count": 35,
     "metadata": {},
     "output_type": "execute_result"
    }
   ],
   "source": [
    "X_train.columns[~rfe.support_]"
   ]
  },
  {
   "cell_type": "code",
   "execution_count": 36,
   "metadata": {},
   "outputs": [],
   "source": [
    "# Creating X_test dataframe with RFE selected variables\n",
    "X_train_rfe = X_train[col]\n",
    "X_train_rfe = sm.add_constant(X_train_rfe)"
   ]
  },
  {
   "cell_type": "code",
   "execution_count": 37,
   "metadata": {},
   "outputs": [
    {
     "name": "stdout",
     "output_type": "stream",
     "text": [
      "                            OLS Regression Results                            \n",
      "==============================================================================\n",
      "Dep. Variable:                 result   R-squared:                       0.241\n",
      "Model:                            OLS   Adj. R-squared:                  0.235\n",
      "Method:                 Least Squares   F-statistic:                     40.57\n",
      "Date:                Wed, 02 Oct 2019   Prob (F-statistic):           1.59e-29\n",
      "Time:                        20:10:43   Log-Likelihood:                -302.48\n",
      "No. Observations:                 515   AIC:                             615.0\n",
      "Df Residuals:                     510   BIC:                             636.2\n",
      "Df Model:                           4                                         \n",
      "Covariance Type:            nonrobust                                         \n",
      "==================================================================================\n",
      "                     coef    std err          t      P>|t|      [0.025      0.975]\n",
      "----------------------------------------------------------------------------------\n",
      "const             -0.0665      0.070     -0.951      0.342      -0.204       0.071\n",
      "win_points         1.8091      0.146     12.375      0.000       1.522       2.096\n",
      "raids             -0.2068      0.105     -1.974      0.049      -0.413      -0.001\n",
      "tackels            0.0228      0.069      0.331      0.741      -0.112       0.158\n",
      "all_out_points     0.1596      0.081      1.966      0.050       0.000       0.319\n",
      "==============================================================================\n",
      "Omnibus:                      590.464   Durbin-Watson:                   1.827\n",
      "Prob(Omnibus):                  0.000   Jarque-Bera (JB):               34.686\n",
      "Skew:                           0.014   Prob(JB):                     2.94e-08\n",
      "Kurtosis:                       1.729   Cond. No.                         10.9\n",
      "==============================================================================\n",
      "\n",
      "Warnings:\n",
      "[1] Standard Errors assume that the covariance matrix of the errors is correctly specified.\n"
     ]
    }
   ],
   "source": [
    "lm = sm.OLS(Y_train,X_train_rfe).fit()   # Running the linear model\n",
    "print(lm.summary())"
   ]
  },
  {
   "cell_type": "code",
   "execution_count": 38,
   "metadata": {},
   "outputs": [
    {
     "name": "stdout",
     "output_type": "stream",
     "text": [
      "                            OLS Regression Results                            \n",
      "==============================================================================\n",
      "Dep. Variable:                 result   R-squared:                       0.241\n",
      "Model:                            OLS   Adj. R-squared:                  0.237\n",
      "Method:                 Least Squares   F-statistic:                     54.15\n",
      "Date:                Wed, 02 Oct 2019   Prob (F-statistic):           2.09e-30\n",
      "Time:                        20:10:44   Log-Likelihood:                -302.54\n",
      "No. Observations:                 515   AIC:                             613.1\n",
      "Df Residuals:                     511   BIC:                             630.0\n",
      "Df Model:                           3                                         \n",
      "Covariance Type:            nonrobust                                         \n",
      "==================================================================================\n",
      "                     coef    std err          t      P>|t|      [0.025      0.975]\n",
      "----------------------------------------------------------------------------------\n",
      "const             -0.0573      0.064     -0.893      0.372      -0.183       0.069\n",
      "win_points         1.8041      0.145     12.419      0.000       1.519       2.089\n",
      "raids             -0.2022      0.104     -1.949      0.052      -0.406       0.002\n",
      "all_out_points     0.1573      0.081      1.947      0.052      -0.001       0.316\n",
      "==============================================================================\n",
      "Omnibus:                      594.918   Durbin-Watson:                   1.827\n",
      "Prob(Omnibus):                  0.000   Jarque-Bera (JB):               34.729\n",
      "Skew:                           0.015   Prob(JB):                     2.88e-08\n",
      "Kurtosis:                       1.728   Cond. No.                         10.3\n",
      "==============================================================================\n",
      "\n",
      "Warnings:\n",
      "[1] Standard Errors assume that the covariance matrix of the errors is correctly specified.\n"
     ]
    }
   ],
   "source": [
    "X_train_rfe = X_train_rfe.drop(columns=['tackels'], axis=1)\n",
    "lm = sm.OLS(Y_train,X_train_rfe).fit()   # Running the linear model\n",
    "print(lm.summary())"
   ]
  },
  {
   "cell_type": "code",
   "execution_count": 39,
   "metadata": {},
   "outputs": [],
   "source": [
    "X_train_rfe = X_train_rfe[['win_points', 'raids', 'all_out_points']]\n",
    "X_test =  X_test[['win_points', 'raids', 'all_out_points']]"
   ]
  },
  {
   "cell_type": "code",
   "execution_count": 40,
   "metadata": {},
   "outputs": [
    {
     "name": "stdout",
     "output_type": "stream",
     "text": [
      "(0.8077669902912621, 0.6462871033402159)\n"
     ]
    }
   ],
   "source": [
    "random_forest = RandomForestClassifier()\n",
    "random_forest.fit(X_train_rfe, Y_train)\n",
    "Y_pred = random_forest.predict(X_test)\n",
    "\n",
    "result_train = random_forest.score(X_train_rfe, Y_train)\n",
    "result_val = cross_val_score(random_forest,X_train, Y_train, cv=5).mean()\n",
    "\n",
    "print((result_train , result_val))"
   ]
  },
  {
   "cell_type": "code",
   "execution_count": 46,
   "metadata": {},
   "outputs": [
    {
     "data": {
      "text/html": [
       "<div>\n",
       "<style scoped>\n",
       "    .dataframe tbody tr th:only-of-type {\n",
       "        vertical-align: middle;\n",
       "    }\n",
       "\n",
       "    .dataframe tbody tr th {\n",
       "        vertical-align: top;\n",
       "    }\n",
       "\n",
       "    .dataframe thead th {\n",
       "        text-align: right;\n",
       "    }\n",
       "</style>\n",
       "<table border=\"1\" class=\"dataframe\">\n",
       "  <thead>\n",
       "    <tr style=\"text-align: right;\">\n",
       "      <th></th>\n",
       "      <th>team_id</th>\n",
       "      <th>result</th>\n",
       "    </tr>\n",
       "  </thead>\n",
       "  <tbody>\n",
       "    <tr>\n",
       "      <th>0</th>\n",
       "      <td>1</td>\n",
       "      <td>7</td>\n",
       "    </tr>\n",
       "    <tr>\n",
       "      <th>1</th>\n",
       "      <td>2</td>\n",
       "      <td>11</td>\n",
       "    </tr>\n",
       "    <tr>\n",
       "      <th>2</th>\n",
       "      <td>3</td>\n",
       "      <td>11</td>\n",
       "    </tr>\n",
       "    <tr>\n",
       "      <th>3</th>\n",
       "      <td>4</td>\n",
       "      <td>1</td>\n",
       "    </tr>\n",
       "    <tr>\n",
       "      <th>4</th>\n",
       "      <td>5</td>\n",
       "      <td>12</td>\n",
       "    </tr>\n",
       "    <tr>\n",
       "      <th>5</th>\n",
       "      <td>6</td>\n",
       "      <td>7</td>\n",
       "    </tr>\n",
       "    <tr>\n",
       "      <th>6</th>\n",
       "      <td>7</td>\n",
       "      <td>10</td>\n",
       "    </tr>\n",
       "    <tr>\n",
       "      <th>7</th>\n",
       "      <td>8</td>\n",
       "      <td>11</td>\n",
       "    </tr>\n",
       "    <tr>\n",
       "      <th>8</th>\n",
       "      <td>28</td>\n",
       "      <td>6</td>\n",
       "    </tr>\n",
       "    <tr>\n",
       "      <th>9</th>\n",
       "      <td>29</td>\n",
       "      <td>7</td>\n",
       "    </tr>\n",
       "    <tr>\n",
       "      <th>10</th>\n",
       "      <td>30</td>\n",
       "      <td>9</td>\n",
       "    </tr>\n",
       "    <tr>\n",
       "      <th>11</th>\n",
       "      <td>31</td>\n",
       "      <td>9</td>\n",
       "    </tr>\n",
       "  </tbody>\n",
       "</table>\n",
       "</div>"
      ],
      "text/plain": [
       "    team_id  result\n",
       "0         1       7\n",
       "1         2      11\n",
       "2         3      11\n",
       "3         4       1\n",
       "4         5      12\n",
       "5         6       7\n",
       "6         7      10\n",
       "7         8      11\n",
       "8        28       6\n",
       "9        29       7\n",
       "10       30       9\n",
       "11       31       9"
      ]
     },
     "execution_count": 46,
     "metadata": {},
     "output_type": "execute_result"
    }
   ],
   "source": [
    "result = pd.DataFrame({\n",
    "        \"team_id\": test[\"team_id\"],\n",
    "        \"result\": Y_pred.astype(int)\n",
    "    })\n",
    "\n",
    "result.groupby(['team_id']).sum().reset_index()"
   ]
  },
  {
   "cell_type": "markdown",
   "metadata": {},
   "source": [
    "### Task:1"
   ]
  },
  {
   "cell_type": "markdown",
   "metadata": {},
   "source": [
    "#### Predict the winner of the tournment\n"
   ]
  },
  {
   "cell_type": "markdown",
   "metadata": {},
   "source": [
    "##### Winner of the tournment may be U mumba"
   ]
  },
  {
   "cell_type": "markdown",
   "metadata": {},
   "source": [
    "#### Task 2: Predict the top team in the points table after the completion of the league matches. \n",
    "#### Dabang Delhi is having highest points in all the league matches"
   ]
  },
  {
   "cell_type": "code",
   "execution_count": 47,
   "metadata": {},
   "outputs": [
    {
     "data": {
      "text/html": [
       "<div>\n",
       "<style scoped>\n",
       "    .dataframe tbody tr th:only-of-type {\n",
       "        vertical-align: middle;\n",
       "    }\n",
       "\n",
       "    .dataframe tbody tr th {\n",
       "        vertical-align: top;\n",
       "    }\n",
       "\n",
       "    .dataframe thead th {\n",
       "        text-align: right;\n",
       "    }\n",
       "</style>\n",
       "<table border=\"1\" class=\"dataframe\">\n",
       "  <thead>\n",
       "    <tr style=\"text-align: right;\">\n",
       "      <th></th>\n",
       "      <th>team_name</th>\n",
       "      <th>total_points</th>\n",
       "    </tr>\n",
       "  </thead>\n",
       "  <tbody>\n",
       "    <tr>\n",
       "      <th>0</th>\n",
       "      <td>Dabang Delhi K.C.</td>\n",
       "      <td>742</td>\n",
       "    </tr>\n",
       "    <tr>\n",
       "      <th>1</th>\n",
       "      <td>Bengal Warriors</td>\n",
       "      <td>718</td>\n",
       "    </tr>\n",
       "    <tr>\n",
       "      <th>2</th>\n",
       "      <td>Bengaluru Bulls</td>\n",
       "      <td>656</td>\n",
       "    </tr>\n",
       "    <tr>\n",
       "      <th>3</th>\n",
       "      <td>Puneri Paltan</td>\n",
       "      <td>652</td>\n",
       "    </tr>\n",
       "    <tr>\n",
       "      <th>4</th>\n",
       "      <td>Haryana Steelers</td>\n",
       "      <td>650</td>\n",
       "    </tr>\n",
       "    <tr>\n",
       "      <th>5</th>\n",
       "      <td>Patna Pirates</td>\n",
       "      <td>640</td>\n",
       "    </tr>\n",
       "    <tr>\n",
       "      <th>6</th>\n",
       "      <td>Jaipur Pink Panthers</td>\n",
       "      <td>626</td>\n",
       "    </tr>\n",
       "    <tr>\n",
       "      <th>7</th>\n",
       "      <td>Gujarat Fortunegiants</td>\n",
       "      <td>605</td>\n",
       "    </tr>\n",
       "    <tr>\n",
       "      <th>8</th>\n",
       "      <td>U Mumba</td>\n",
       "      <td>598</td>\n",
       "    </tr>\n",
       "    <tr>\n",
       "      <th>9</th>\n",
       "      <td>Tamil Thalaivas</td>\n",
       "      <td>578</td>\n",
       "    </tr>\n",
       "    <tr>\n",
       "      <th>10</th>\n",
       "      <td>Telugu Titans</td>\n",
       "      <td>564</td>\n",
       "    </tr>\n",
       "    <tr>\n",
       "      <th>11</th>\n",
       "      <td>U.P. Yoddha</td>\n",
       "      <td>551</td>\n",
       "    </tr>\n",
       "  </tbody>\n",
       "</table>\n",
       "</div>"
      ],
      "text/plain": [
       "                team_name  total_points\n",
       "0       Dabang Delhi K.C.           742\n",
       "1         Bengal Warriors           718\n",
       "2         Bengaluru Bulls           656\n",
       "3           Puneri Paltan           652\n",
       "4        Haryana Steelers           650\n",
       "5           Patna Pirates           640\n",
       "6    Jaipur Pink Panthers           626\n",
       "7   Gujarat Fortunegiants           605\n",
       "8                 U Mumba           598\n",
       "9         Tamil Thalaivas           578\n",
       "10          Telugu Titans           564\n",
       "11            U.P. Yoddha           551"
      ]
     },
     "execution_count": 47,
     "metadata": {},
     "output_type": "execute_result"
    }
   ],
   "source": [
    "# Highest points in the league matches\n",
    "totalPoints[['team_name', 'total_points']]"
   ]
  },
  {
   "cell_type": "markdown",
   "metadata": {},
   "source": [
    "#### Task 3: Predict the team with the highest points for successful raids.\n",
    "#### Dabang Delhi has highest points for successful raids"
   ]
  },
  {
   "cell_type": "code",
   "execution_count": 48,
   "metadata": {},
   "outputs": [
    {
     "data": {
      "text/html": [
       "<div>\n",
       "<style scoped>\n",
       "    .dataframe tbody tr th:only-of-type {\n",
       "        vertical-align: middle;\n",
       "    }\n",
       "\n",
       "    .dataframe tbody tr th {\n",
       "        vertical-align: top;\n",
       "    }\n",
       "\n",
       "    .dataframe thead th {\n",
       "        text-align: right;\n",
       "    }\n",
       "</style>\n",
       "<table border=\"1\" class=\"dataframe\">\n",
       "  <thead>\n",
       "    <tr style=\"text-align: right;\">\n",
       "      <th></th>\n",
       "      <th>team_name</th>\n",
       "      <th>raids</th>\n",
       "    </tr>\n",
       "  </thead>\n",
       "  <tbody>\n",
       "    <tr>\n",
       "      <th>0</th>\n",
       "      <td>Dabang Delhi K.C.</td>\n",
       "      <td>361</td>\n",
       "    </tr>\n",
       "    <tr>\n",
       "      <th>1</th>\n",
       "      <td>Bengal Warriors</td>\n",
       "      <td>340</td>\n",
       "    </tr>\n",
       "    <tr>\n",
       "      <th>2</th>\n",
       "      <td>Bengaluru Bulls</td>\n",
       "      <td>309</td>\n",
       "    </tr>\n",
       "    <tr>\n",
       "      <th>3</th>\n",
       "      <td>Patna Pirates</td>\n",
       "      <td>291</td>\n",
       "    </tr>\n",
       "    <tr>\n",
       "      <th>4</th>\n",
       "      <td>Puneri Paltan</td>\n",
       "      <td>290</td>\n",
       "    </tr>\n",
       "    <tr>\n",
       "      <th>5</th>\n",
       "      <td>Haryana Steelers</td>\n",
       "      <td>290</td>\n",
       "    </tr>\n",
       "    <tr>\n",
       "      <th>6</th>\n",
       "      <td>Tamil Thalaivas</td>\n",
       "      <td>275</td>\n",
       "    </tr>\n",
       "    <tr>\n",
       "      <th>7</th>\n",
       "      <td>Telugu Titans</td>\n",
       "      <td>273</td>\n",
       "    </tr>\n",
       "    <tr>\n",
       "      <th>8</th>\n",
       "      <td>Gujarat Fortunegiants</td>\n",
       "      <td>265</td>\n",
       "    </tr>\n",
       "    <tr>\n",
       "      <th>9</th>\n",
       "      <td>Jaipur Pink Panthers</td>\n",
       "      <td>261</td>\n",
       "    </tr>\n",
       "    <tr>\n",
       "      <th>10</th>\n",
       "      <td>U Mumba</td>\n",
       "      <td>258</td>\n",
       "    </tr>\n",
       "    <tr>\n",
       "      <th>11</th>\n",
       "      <td>U.P. Yoddha</td>\n",
       "      <td>223</td>\n",
       "    </tr>\n",
       "  </tbody>\n",
       "</table>\n",
       "</div>"
      ],
      "text/plain": [
       "                team_name  raids\n",
       "0       Dabang Delhi K.C.    361\n",
       "1         Bengal Warriors    340\n",
       "2         Bengaluru Bulls    309\n",
       "3           Patna Pirates    291\n",
       "4           Puneri Paltan    290\n",
       "5        Haryana Steelers    290\n",
       "6         Tamil Thalaivas    275\n",
       "7           Telugu Titans    273\n",
       "8   Gujarat Fortunegiants    265\n",
       "9    Jaipur Pink Panthers    261\n",
       "10                U Mumba    258\n",
       "11            U.P. Yoddha    223"
      ]
     },
     "execution_count": 48,
     "metadata": {},
     "output_type": "execute_result"
    }
   ],
   "source": [
    "teamRaids[['team_name', 'raids']]"
   ]
  },
  {
   "cell_type": "markdown",
   "metadata": {},
   "source": [
    "#### Task 4: Predict the team with the highest points for successful tackles. \n",
    "#### Puneri Paltan has highest tackel points"
   ]
  },
  {
   "cell_type": "code",
   "execution_count": 49,
   "metadata": {},
   "outputs": [
    {
     "data": {
      "text/html": [
       "<div>\n",
       "<style scoped>\n",
       "    .dataframe tbody tr th:only-of-type {\n",
       "        vertical-align: middle;\n",
       "    }\n",
       "\n",
       "    .dataframe tbody tr th {\n",
       "        vertical-align: top;\n",
       "    }\n",
       "\n",
       "    .dataframe thead th {\n",
       "        text-align: right;\n",
       "    }\n",
       "</style>\n",
       "<table border=\"1\" class=\"dataframe\">\n",
       "  <thead>\n",
       "    <tr style=\"text-align: right;\">\n",
       "      <th></th>\n",
       "      <th>team_name</th>\n",
       "      <th>tackels</th>\n",
       "    </tr>\n",
       "  </thead>\n",
       "  <tbody>\n",
       "    <tr>\n",
       "      <th>0</th>\n",
       "      <td>Puneri Paltan</td>\n",
       "      <td>207</td>\n",
       "    </tr>\n",
       "    <tr>\n",
       "      <th>1</th>\n",
       "      <td>Jaipur Pink Panthers</td>\n",
       "      <td>189</td>\n",
       "    </tr>\n",
       "    <tr>\n",
       "      <th>2</th>\n",
       "      <td>Gujarat Fortunegiants</td>\n",
       "      <td>187</td>\n",
       "    </tr>\n",
       "    <tr>\n",
       "      <th>3</th>\n",
       "      <td>Bengal Warriors</td>\n",
       "      <td>182</td>\n",
       "    </tr>\n",
       "    <tr>\n",
       "      <th>4</th>\n",
       "      <td>Dabang Delhi K.C.</td>\n",
       "      <td>181</td>\n",
       "    </tr>\n",
       "    <tr>\n",
       "      <th>5</th>\n",
       "      <td>Haryana Steelers</td>\n",
       "      <td>181</td>\n",
       "    </tr>\n",
       "    <tr>\n",
       "      <th>6</th>\n",
       "      <td>U.P. Yoddha</td>\n",
       "      <td>177</td>\n",
       "    </tr>\n",
       "    <tr>\n",
       "      <th>7</th>\n",
       "      <td>Bengaluru Bulls</td>\n",
       "      <td>168</td>\n",
       "    </tr>\n",
       "    <tr>\n",
       "      <th>8</th>\n",
       "      <td>U Mumba</td>\n",
       "      <td>168</td>\n",
       "    </tr>\n",
       "    <tr>\n",
       "      <th>9</th>\n",
       "      <td>Patna Pirates</td>\n",
       "      <td>168</td>\n",
       "    </tr>\n",
       "    <tr>\n",
       "      <th>10</th>\n",
       "      <td>Telugu Titans</td>\n",
       "      <td>162</td>\n",
       "    </tr>\n",
       "    <tr>\n",
       "      <th>11</th>\n",
       "      <td>Tamil Thalaivas</td>\n",
       "      <td>160</td>\n",
       "    </tr>\n",
       "  </tbody>\n",
       "</table>\n",
       "</div>"
      ],
      "text/plain": [
       "                team_name  tackels\n",
       "0           Puneri Paltan      207\n",
       "1    Jaipur Pink Panthers      189\n",
       "2   Gujarat Fortunegiants      187\n",
       "3         Bengal Warriors      182\n",
       "4       Dabang Delhi K.C.      181\n",
       "5        Haryana Steelers      181\n",
       "6             U.P. Yoddha      177\n",
       "7         Bengaluru Bulls      168\n",
       "8                 U Mumba      168\n",
       "9           Patna Pirates      168\n",
       "10          Telugu Titans      162\n",
       "11        Tamil Thalaivas      160"
      ]
     },
     "execution_count": 49,
     "metadata": {},
     "output_type": "execute_result"
    }
   ],
   "source": [
    "teamTackels[['team_name', 'tackels']]"
   ]
  },
  {
   "cell_type": "markdown",
   "metadata": {},
   "source": [
    "#### Task 5: Predict the team with the highest super-performance total. "
   ]
  },
  {
   "cell_type": "markdown",
   "metadata": {},
   "source": [
    "#### Task 6: Predict the player with the highest SUCCESSFUL RAID percentage.\n",
    "#### Naveen kumar tops in the highest successful raids "
   ]
  },
  {
   "cell_type": "code",
   "execution_count": 67,
   "metadata": {},
   "outputs": [
    {
     "data": {
      "text/html": [
       "<div>\n",
       "<style scoped>\n",
       "    .dataframe tbody tr th:only-of-type {\n",
       "        vertical-align: middle;\n",
       "    }\n",
       "\n",
       "    .dataframe tbody tr th {\n",
       "        vertical-align: top;\n",
       "    }\n",
       "\n",
       "    .dataframe thead th {\n",
       "        text-align: right;\n",
       "    }\n",
       "</style>\n",
       "<table border=\"1\" class=\"dataframe\">\n",
       "  <thead>\n",
       "    <tr style=\"text-align: right;\">\n",
       "      <th></th>\n",
       "      <th>team_full_name</th>\n",
       "      <th>player_name</th>\n",
       "      <th>raids</th>\n",
       "      <th>match_played</th>\n",
       "      <th>percentage</th>\n",
       "    </tr>\n",
       "  </thead>\n",
       "  <tbody>\n",
       "    <tr>\n",
       "      <th>0</th>\n",
       "      <td>Dabang Delhi K.C.</td>\n",
       "      <td>Naveen Kumar</td>\n",
       "      <td>213</td>\n",
       "      <td>20</td>\n",
       "      <td>10.650000</td>\n",
       "    </tr>\n",
       "    <tr>\n",
       "      <th>1</th>\n",
       "      <td>Patna Pirates</td>\n",
       "      <td>Pardeep Narwal</td>\n",
       "      <td>190</td>\n",
       "      <td>19</td>\n",
       "      <td>10.000000</td>\n",
       "    </tr>\n",
       "    <tr>\n",
       "      <th>2</th>\n",
       "      <td>Bengaluru Bulls</td>\n",
       "      <td>Pawan Kumar Sehrawat</td>\n",
       "      <td>187</td>\n",
       "      <td>19</td>\n",
       "      <td>9.842105</td>\n",
       "    </tr>\n",
       "    <tr>\n",
       "      <th>3</th>\n",
       "      <td>Bengal Warriors</td>\n",
       "      <td>Maninder Singh</td>\n",
       "      <td>171</td>\n",
       "      <td>20</td>\n",
       "      <td>8.550000</td>\n",
       "    </tr>\n",
       "    <tr>\n",
       "      <th>4</th>\n",
       "      <td>Telugu Titans</td>\n",
       "      <td>Siddharth Sirish Desai</td>\n",
       "      <td>143</td>\n",
       "      <td>18</td>\n",
       "      <td>7.944444</td>\n",
       "    </tr>\n",
       "  </tbody>\n",
       "</table>\n",
       "</div>"
      ],
      "text/plain": [
       "      team_full_name             player_name  raids  match_played  percentage\n",
       "0  Dabang Delhi K.C.            Naveen Kumar    213            20   10.650000\n",
       "1      Patna Pirates          Pardeep Narwal    190            19   10.000000\n",
       "2    Bengaluru Bulls    Pawan Kumar Sehrawat    187            19    9.842105\n",
       "3    Bengal Warriors          Maninder Singh    171            20    8.550000\n",
       "4      Telugu Titans  Siddharth Sirish Desai    143            18    7.944444"
      ]
     },
     "execution_count": 67,
     "metadata": {},
     "output_type": "execute_result"
    }
   ],
   "source": [
    "playerRaidsG =  playerRaids[['team_full_name', 'player_name', 'raids', 'match_played']]\n",
    "playerRaidsG.head()"
   ]
  },
  {
   "cell_type": "markdown",
   "metadata": {},
   "source": [
    "#### Task 7: Predict the player with the highest SUCCESSFUL TACKLE percentage. \n",
    "#### Sandeep kumar dhull tops in the successful tackels "
   ]
  },
  {
   "cell_type": "code",
   "execution_count": 66,
   "metadata": {},
   "outputs": [
    {
     "data": {
      "text/html": [
       "<div>\n",
       "<style scoped>\n",
       "    .dataframe tbody tr th:only-of-type {\n",
       "        vertical-align: middle;\n",
       "    }\n",
       "\n",
       "    .dataframe tbody tr th {\n",
       "        vertical-align: top;\n",
       "    }\n",
       "\n",
       "    .dataframe thead th {\n",
       "        text-align: right;\n",
       "    }\n",
       "</style>\n",
       "<table border=\"1\" class=\"dataframe\">\n",
       "  <thead>\n",
       "    <tr style=\"text-align: right;\">\n",
       "      <th></th>\n",
       "      <th>team_full_name</th>\n",
       "      <th>player_name</th>\n",
       "      <th>tackels</th>\n",
       "      <th>match_played</th>\n",
       "    </tr>\n",
       "  </thead>\n",
       "  <tbody>\n",
       "    <tr>\n",
       "      <th>0</th>\n",
       "      <td>Jaipur Pink Panthers</td>\n",
       "      <td>Sandeep Kumar Dhull</td>\n",
       "      <td>60</td>\n",
       "      <td>20</td>\n",
       "    </tr>\n",
       "    <tr>\n",
       "      <th>1</th>\n",
       "      <td>U.P. Yoddha</td>\n",
       "      <td>Sumit</td>\n",
       "      <td>60</td>\n",
       "      <td>18</td>\n",
       "    </tr>\n",
       "    <tr>\n",
       "      <th>2</th>\n",
       "      <td>Dabang Delhi K.C.</td>\n",
       "      <td>Ravinder Pahal</td>\n",
       "      <td>57</td>\n",
       "      <td>20</td>\n",
       "    </tr>\n",
       "    <tr>\n",
       "      <th>3</th>\n",
       "      <td>U Mumba</td>\n",
       "      <td>Fazel Atrachali</td>\n",
       "      <td>57</td>\n",
       "      <td>19</td>\n",
       "    </tr>\n",
       "    <tr>\n",
       "      <th>4</th>\n",
       "      <td>Bengal Warriors</td>\n",
       "      <td>Baldev Singh</td>\n",
       "      <td>54</td>\n",
       "      <td>20</td>\n",
       "    </tr>\n",
       "  </tbody>\n",
       "</table>\n",
       "</div>"
      ],
      "text/plain": [
       "         team_full_name          player_name  tackels  match_played\n",
       "0  Jaipur Pink Panthers  Sandeep Kumar Dhull       60            20\n",
       "1           U.P. Yoddha                Sumit       60            18\n",
       "2     Dabang Delhi K.C.       Ravinder Pahal       57            20\n",
       "3               U Mumba      Fazel Atrachali       57            19\n",
       "4       Bengal Warriors         Baldev Singh       54            20"
      ]
     },
     "execution_count": 66,
     "metadata": {},
     "output_type": "execute_result"
    }
   ],
   "source": [
    "playerTackelsG = playerTackels[['team_full_name', 'player_name', 'tackels', 'match_played']]\n",
    "playerTackelsG.head()"
   ]
  },
  {
   "cell_type": "code",
   "execution_count": null,
   "metadata": {},
   "outputs": [],
   "source": []
  }
 ],
 "metadata": {
  "kernelspec": {
   "display_name": "Python 3",
   "language": "python",
   "name": "python3"
  },
  "language_info": {
   "codemirror_mode": {
    "name": "ipython",
    "version": 3
   },
   "file_extension": ".py",
   "mimetype": "text/x-python",
   "name": "python",
   "nbconvert_exporter": "python",
   "pygments_lexer": "ipython3",
   "version": "3.7.3"
  }
 },
 "nbformat": 4,
 "nbformat_minor": 2
}
